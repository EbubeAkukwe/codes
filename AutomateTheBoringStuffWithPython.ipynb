{
 "cells": [
  {
   "cell_type": "markdown",
   "id": "8342ce0f",
   "metadata": {},
   "source": [
    "# Automate the boring stuff with Python by AI Sweigart -All Practice Projects"
   ]
  },
  {
   "cell_type": "code",
   "execution_count": null,
   "id": "93288576",
   "metadata": {},
   "outputs": [],
   "source": [
    "#This Project contains all excercises solutions in the Automate the boring stuff with python book.\n",
    "#If you're going to be giving the book a try, this will help when you hit a wall\n",
    "\n",
    "#Project By Ebube Akukwe(Data Analyst)"
   ]
  },
  {
   "cell_type": "code",
   "execution_count": 6,
   "id": "558d111c",
   "metadata": {},
   "outputs": [],
   "source": [
    "import random\n",
    "\n",
    "for i in range(1,11) :\n",
    "    print(i)\n",
    "    \n",
    "i = 1\n",
    "while i <= 10 :\n",
    "    print(i)\n",
    "    i += 1\n",
    "    \n",
    "print(random.randint(1,9))\n",
    "\n",
    "print('cat', 'dog', sep=',')"
   ]
  },
  {
   "cell_type": "markdown",
   "id": "152b0058",
   "metadata": {},
   "source": [
    "# Code for Collatz Sequence"
   ]
  },
  {
   "cell_type": "code",
   "execution_count": 31,
   "id": "94c80eb2",
   "metadata": {
    "collapsed": true
   },
   "outputs": [
    {
     "name": "stdout",
     "output_type": "stream",
     "text": [
      "Enter a number:dog\n",
      "Input must be an integer!\n",
      "Enter a number:2\n",
      "1\n"
     ]
    }
   ],
   "source": [
    "#collatz sequence\n",
    "def collatz(number) :\n",
    "    global value\n",
    "    number = int(number)\n",
    "    if number%2 == 0: \n",
    "        value = number//2\n",
    "        print(value)\n",
    "    else :\n",
    "        value = 3*number + 1\n",
    "        print(value)\n",
    "    \n",
    "def run():\n",
    "    try :\n",
    "        number = input('Enter a number:')\n",
    "        collatz(number)\n",
    "        if value != 1 :\n",
    "            run()\n",
    "    except ValueError :\n",
    "        print('Input must be an integer!')\n",
    "        run()\n",
    "\n",
    "run()\n",
    "    \n",
    "        \n",
    "    "
   ]
  },
  {
   "cell_type": "markdown",
   "id": "60a67431",
   "metadata": {},
   "source": [
    "# Comma Code"
   ]
  },
  {
   "cell_type": "code",
   "execution_count": 30,
   "id": "8875e4de",
   "metadata": {},
   "outputs": [
    {
     "name": "stdout",
     "output_type": "stream",
     "text": [
      "apples, bananas, tofu, cats, orange and donkey"
     ]
    }
   ],
   "source": [
    "#comma code\n",
    "def listitems(items) :\n",
    "    items == list(items)\n",
    "    i = 0\n",
    "    while i < len(items) :\n",
    "        if i == items.index(items[-2]) :\n",
    "            print(items[i], end=' and ')\n",
    "        elif i == items.index(items[-1]) :\n",
    "            print(items[i], end='')\n",
    "        else :\n",
    "            print(items[i], end=', ')\n",
    "        i += 1\n",
    "\n",
    "spam = ['apples', 'bananas', 'tofu', 'cats','orange','donkey']\n",
    "listitems(spam)"
   ]
  },
  {
   "cell_type": "markdown",
   "id": "8d35a11f",
   "metadata": {},
   "source": [
    "# Character picture grid"
   ]
  },
  {
   "cell_type": "code",
   "execution_count": 161,
   "id": "11ce78d9",
   "metadata": {},
   "outputs": [
    {
     "name": "stdout",
     "output_type": "stream",
     "text": [
      "..OO.OO..\n",
      ".OOOOOOO.\n",
      ".OOOOOOO.\n",
      "..OOOOO..\n",
      "...OOO...\n",
      "....O....\n",
      "."
     ]
    }
   ],
   "source": [
    "#character picture grid\n",
    "\n",
    "grid = [['.', '.', '.', '.', '.', '.'],\n",
    " ['.', 'O', 'O', '.', '.', '.'],\n",
    " ['O', 'O', 'O', 'O', '.', '.'],\n",
    " ['O', 'O', 'O', 'O', 'O', '.'],\n",
    " ['.', 'O', 'O', 'O', 'O', 'O'],\n",
    " ['O', 'O', 'O', 'O', 'O', '.'],\n",
    " ['O', 'O', 'O', 'O', '.', '.'],\n",
    " ['.', 'O', 'O', '.', '.', '.'],\n",
    " ['.', '.', '.', '.', '.', '.']]\n",
    "\n",
    "a = 0\n",
    "b = 0\n",
    "c = 0\n",
    "d = 1\n",
    "\n",
    "def do_task2():\n",
    "    global a\n",
    "    global b\n",
    "    global c\n",
    "    global d\n",
    "    while c < len(i)+2 :\n",
    "        print(grid[c][d], end='')\n",
    "        c += 1\n",
    "        if c == len(i)+2 :\n",
    "            d += 1\n",
    "            c = 0\n",
    "            print('.')\n",
    "            do_task2()\n",
    "            \n",
    "\n",
    "def do_task() :\n",
    "    global a\n",
    "    global b\n",
    "    global c\n",
    "    global d\n",
    "    while a <= len(i)+2:\n",
    "        print(grid[a][b], end='')\n",
    "        a += 1\n",
    "        if a == len(i)+2 :\n",
    "            print('.')\n",
    "            do_task2()\n",
    "                \n",
    "\n",
    "\n",
    "for i in grid :\n",
    "    for x in i :\n",
    "        try :\n",
    "            do_task()\n",
    "        except IndexError :\n",
    "            break\n",
    "        "
   ]
  },
  {
   "cell_type": "markdown",
   "id": "c1b594c5",
   "metadata": {},
   "source": [
    "# TicTacToe Game Code"
   ]
  },
  {
   "cell_type": "code",
   "execution_count": 1,
   "id": "c8084c7d",
   "metadata": {},
   "outputs": [],
   "source": [
    "#tictactoe game\n",
    "\n",
    "board = {'topL':'  ','topM':'  ','topR':'  ',\n",
    "        'middleL':'  ','middleM':'  ','middleR':'  ',\n",
    "        'downL':'  ','downM':'  ','downR':'  '}\n",
    "\n",
    "def draw_board(board) :\n",
    "    print(board['topL'] + '|' + board['topM'] + '|' + board['topR'] )\n",
    "    print('--' + '+' + '--' + '+' + '--')\n",
    "    print(board['middleL'] + '|' + board['middleM'] + '|' + board['middleR'] )\n",
    "    print('--' + '+' + '--' + '+' + '--')\n",
    "    print(board['downL'] + '|' + board['downM'] + '|' + board['downR'] )\n",
    "    \n",
    "#draw_board(board)\n",
    "\n",
    "def play() :\n",
    "    turn = 'X'\n",
    "    player = player1\n",
    "    for i in range(9):\n",
    "        draw_board(board)\n",
    "        print('Turn for ' + player + '('+turn+')' + '. Move on which space?')\n",
    "        move = input('Enter position to place '+turn+' :')\n",
    "        board[move] = turn\n",
    "        if turn == 'X':\n",
    "            turn = 'O'\n",
    "            player = player2\n",
    "        else:\n",
    "            turn = 'X'\n",
    "            player = player1\n",
    "            draw_board(board)\n",
    "\n",
    "def start_game() :\n",
    "    global position\n",
    "    global value\n",
    "    start = input('Type in start to start/end to start/end game :')\n",
    "    if start == 'start' :\n",
    "        play()\n",
    "    elif start != 'start' or 'end' :\n",
    "        print('Invalid Input....')\n",
    "        start_game()\n",
    "    elif start == 'end' :\n",
    "        sys.exit(0)\n",
    "    else :\n",
    "        pass\n",
    "    \n",
    "    \n",
    "player1 = input('Enter name of player1 (Note: This player uses X):')\n",
    "player2 = input('Enter name of player2 (Note: This player uses O):')\n",
    "start_game()\n",
    "\n",
    "'''\n",
    "def check_winner() :\n",
    "    global winner\n",
    "    global player1_win\n",
    "    global player2_win\n",
    "    #check if user X is winner\n",
    "    if board['topL'] and board['topM'] and board['topR'] == 'X' :\n",
    "        winner = player1\n",
    "        player1_win = player1_win + 1\n",
    "    elif board['middleL'] and board['middleM'] and board['middleR'] == 'X' :\n",
    "        winner = player1\n",
    "        player1_win = player1_win + 1\n",
    "    elif board['downL'] and board['downM'] and board['downR'] == 'X' :\n",
    "        winner = player1\n",
    "        player1_win = player1_win + 1\n",
    "    elif board['topL'] and board['middleL'] and board['downL'] == 'X' :\n",
    "        winner = player1\n",
    "        player1_win = player1_win + 1\n",
    "    elif board['topM'] and board['middleM'] and board['downM'] == 'X' :\n",
    "        winner = player1\n",
    "        player1_win = player1_win + 1\n",
    "    elif board['topR'] and board['middleR'] and board['downR'] == 'X' :\n",
    "        winner = player1\n",
    "        player1_win = player1_win + 1\n",
    "    elif board['topL'] and board['middleM'] and board['downR'] == 'X' :\n",
    "        winner = player1\n",
    "        player1_win = player1_win + 1\n",
    "    elif board['topR'] and board['middleM'] and board['downL'] == 'X' :\n",
    "        winner = player1\n",
    "        player1_win = player1_win + 1\n",
    "    #check if user O is winner\n",
    "    elif board['topL'] and board['topM'] and board['topR'] == 'O' :\n",
    "        winner = player2\n",
    "        player2_win = player2_win + 1\n",
    "    elif board['middleL'] and board['middleM'] and board['middleR'] == 'O' :\n",
    "        winner = player2\n",
    "        player2_win = player2_win + 1\n",
    "    elif board['downL'] and board['downM'] and board['downR'] == 'O' :\n",
    "        winner = player2\n",
    "        player2_win = player2_win + 1\n",
    "    elif board['topL'] and board['middleL'] and board['downL'] == 'O' :\n",
    "        winner = player2\n",
    "        player2_win = player2_win + 1\n",
    "    elif board['topM'] and board['middleM'] and board['downM'] == 'O' :\n",
    "        winner = player2\n",
    "        player2_win = player2_win + 1\n",
    "    elif board['topR'] and board['middleR'] and board['downR'] == 'O' :\n",
    "        winner = player2\n",
    "        player2_win = player2_win + 1\n",
    "    elif board['topL'] and board['middleM'] and board['downR'] == 'O' :\n",
    "        winner = player2\n",
    "        player2_win = player2_win + 1\n",
    "    elif board['topR'] and board['middleM'] and board['downL'] == 'O' :\n",
    "        winner = player2\n",
    "        player2_win = player2_win + 1\n",
    "    else :\n",
    "        print('It ended in a draw!')\n",
    "    \n",
    "'''\n",
    "\n"
   ]
  },
  {
   "cell_type": "markdown",
   "id": "4ef0d931",
   "metadata": {},
   "source": [
    "# Fantasy game inventory code"
   ]
  },
  {
   "cell_type": "code",
   "execution_count": 19,
   "id": "b1753340",
   "metadata": {
    "collapsed": true
   },
   "outputs": [
    {
     "name": "stdout",
     "output_type": "stream",
     "text": [
      "Inventory:\n",
      "1 rope\n",
      "6 torch\n",
      "42 gold coin\n",
      "1 dagger\n",
      "12 arrow\n",
      "2 pistol\n",
      "1 assault rifle\n",
      "Total number of items:65\n"
     ]
    }
   ],
   "source": [
    "#fantasy game inventory\n",
    "\n",
    "stuff = {'rope': 1, 'torch': 6, 'gold coin': 42, 'dagger': 1, 'arrow': 12,'pistol': 2, 'assault rifle': 1}\n",
    "\n",
    "def displayInventory(inventory) :\n",
    "    global total_items\n",
    "    total_items = 0\n",
    "    print('Inventory:', sep='')\n",
    "    for key,value in inventory.items() :\n",
    "        print(str(value) +' '+ key, sep='')\n",
    "        total_items = total_items + value\n",
    "    print('Total number of items:'+str(total_items))\n",
    "    \n",
    "displayInventory(stuff)"
   ]
  },
  {
   "cell_type": "code",
   "execution_count": 21,
   "id": "724a21bf",
   "metadata": {
    "collapsed": true
   },
   "outputs": [
    {
     "name": "stdout",
     "output_type": "stream",
     "text": [
      "Inventory:\n",
      "1 rope\n",
      "6 torch\n",
      "45 gold coin\n",
      "2 dagger\n",
      "12 arrow\n",
      "2 pistol\n",
      "1 assault rifle\n",
      "1 ruby\n",
      "Total number of items:70\n"
     ]
    }
   ],
   "source": [
    "#add to dictionary function for fantansy game inventory\n",
    "dragonLoot = ['gold coin', 'dagger', 'gold coin', 'gold coin', 'ruby']\n",
    "\n",
    "def addToInventory(inventory, addedItems) :\n",
    "    global updatedInventory\n",
    "    updatedInventory = inventory\n",
    "    for item in addedItems :\n",
    "        if item in updatedInventory.keys() :\n",
    "            updatedInventory[item] = updatedInventory[item] + 1\n",
    "        else :\n",
    "            updatedInventory[item] = 1\n",
    "    displayInventory(updatedInventory)\n",
    "            \n",
    "        \n",
    "addToInventory(stuff, dragonLoot)"
   ]
  },
  {
   "cell_type": "markdown",
   "id": "43107ac2",
   "metadata": {},
   "source": [
    "# Table printer code"
   ]
  },
  {
   "cell_type": "code",
   "execution_count": 162,
   "id": "d6235f58",
   "metadata": {
    "collapsed": true
   },
   "outputs": [
    {
     "name": "stdout",
     "output_type": "stream",
     "text": [
      "   apples    Alice     dogs\n",
      "\n",
      "  oranges      Bob     cats\n",
      "\n",
      " cherries    Carol    moose\n",
      "\n",
      "   banana    David    goose"
     ]
    }
   ],
   "source": [
    "#table printer\n",
    "\n",
    "tableData = [['apples', 'oranges', 'cherries', 'banana'], \n",
    " ['Alice', 'Bob', 'Carol', 'David'], \n",
    " ['dogs', 'cats', 'moose', 'goose']]\n",
    "\n",
    "\n",
    "# main solution\n",
    "a = 0\n",
    "b = 0\n",
    "c = 0\n",
    "\n",
    "def printTable2(table) :\n",
    "    global b\n",
    "    global c\n",
    "    for item in table :\n",
    "        for i in item :\n",
    "            while c <= len(table):\n",
    "                try :\n",
    "                    print((table[c][b]).rjust(9), end='')\n",
    "                except IndexError :\n",
    "                    break\n",
    "                c += 1\n",
    "                if c == len(item)-1 :\n",
    "                    b += 1\n",
    "                    c = 0\n",
    "                    if b <= len(item)-1 :\n",
    "                        print('\\n')\n",
    "                        printTable2(table)\n",
    "                    else:\n",
    "                        break\n",
    "                else :\n",
    "                    break\n",
    "    \n",
    "def printTable(table) :\n",
    "    global b\n",
    "    global c\n",
    "    for item in table :\n",
    "        for i in item :\n",
    "            while c < len(table):\n",
    "                try :\n",
    "                    if c < len(table) :\n",
    "                        print((table[c][b]).rjust(9), end='')\n",
    "                    else :\n",
    "                        break\n",
    "                except IndexError :\n",
    "                    break\n",
    "                c += 1\n",
    "                if c == len(table) :\n",
    "                    b += 1\n",
    "                    c = 0\n",
    "                    if b <= len(item) :\n",
    "                        print('\\n')\n",
    "                        printTable2(table)\n",
    "                    else:\n",
    "                        break\n",
    "                else :\n",
    "                    break\n",
    "                    \n",
    "printTable(tableData)\n",
    "        "
   ]
  },
  {
   "cell_type": "code",
   "execution_count": 158,
   "id": "364d9a36",
   "metadata": {
    "collapsed": true
   },
   "outputs": [
    {
     "data": {
      "text/plain": [
       "\"\\na = 0\\nb = 0\\nc = 0\\n\\ndef printTable2(table) :\\n    global b\\n    global c\\n    for item in table :\\n        for i in item :\\n            while b <= len(item):\\n                try :\\n                    print((table[c][b]).rjust(9), end='')\\n                except IndexError :\\n                    break\\n                b += 1\\n                if b == len(item) :\\n                    c += 1\\n                    b = 0\\n                    if c < len(table) :\\n                        print('\\n')\\n                        printTable2(table)\\n                    else:\\n                        break\\n                else :\\n                    break\\n    \\ndef printTable(table) :\\n    global b\\n    global c\\n    for item in table :\\n        for i in item :\\n            while b <= len(item):\\n                try :\\n                    print((table[c][b]).rjust(9), end='')\\n                except IndexError :\\n                    break\\n                b += 1\\n                if b == len(item) :\\n                    c += 1\\n                    b = 0\\n                    if c <= len(table) :\\n                        print('\\n')\\n                        printTable2(table)\\n                    else:\\n                        break\\n                else :\\n                    break\\n\""
      ]
     },
     "execution_count": 158,
     "metadata": {},
     "output_type": "execute_result"
    }
   ],
   "source": [
    "#another solution for table printer ,just practicing xoxo\n",
    "\n",
    "'''\n",
    "a = 0\n",
    "b = 0\n",
    "c = 0\n",
    "\n",
    "def printTable2(table) :\n",
    "    global b\n",
    "    global c\n",
    "    for item in table :\n",
    "        for i in item :\n",
    "            while b <= len(item):\n",
    "                try :\n",
    "                    print((table[c][b]).rjust(9), end='')\n",
    "                except IndexError :\n",
    "                    break\n",
    "                b += 1\n",
    "                if b == len(item) :\n",
    "                    c += 1\n",
    "                    b = 0\n",
    "                    if c < len(table) :\n",
    "                        print('\\n')\n",
    "                        printTable2(table)\n",
    "                    else:\n",
    "                        break\n",
    "                else :\n",
    "                    break\n",
    "    \n",
    "def printTable(table) :\n",
    "    global b\n",
    "    global c\n",
    "    for item in table :\n",
    "        for i in item :\n",
    "            while b <= len(item):\n",
    "                try :\n",
    "                    print((table[c][b]).rjust(9), end='')\n",
    "                except IndexError :\n",
    "                    break\n",
    "                b += 1\n",
    "                if b == len(item) :\n",
    "                    c += 1\n",
    "                    b = 0\n",
    "                    if c <= len(table) :\n",
    "                        print('\\n')\n",
    "                        printTable2(table)\n",
    "                    else:\n",
    "                        break\n",
    "                else :\n",
    "                    break\n",
    "'''"
   ]
  },
  {
   "cell_type": "markdown",
   "id": "af59ac6d",
   "metadata": {
    "scrolled": true
   },
   "source": [
    "# Regex Codes"
   ]
  },
  {
   "cell_type": "code",
   "execution_count": 10,
   "id": "40fc0f85",
   "metadata": {},
   "outputs": [
    {
     "data": {
      "text/plain": [
       "\"phoneNumRegex = re.compile(r'\\\\d{3}-\\\\d{3}-\\\\d{4}')\\ntext = 'My phone number is 123-456-7890'\\nphoneNum = phoneNumRegex.search(text)\\nprint('Phone Number Found: '+phoneNum.group())\""
      ]
     },
     "execution_count": 10,
     "metadata": {},
     "output_type": "execute_result"
    }
   ],
   "source": [
    "#working with regex\n",
    "\n",
    "import re\n",
    "\n",
    "'''phoneNumRegex = re.compile(r'\\d{3}-\\d{3}-\\d{4}')\n",
    "text = 'My phone number is 123-456-7890'\n",
    "phoneNum = phoneNumRegex.search(text)\n",
    "print('Phone Number Found: '+phoneNum.group())'''"
   ]
  },
  {
   "cell_type": "code",
   "execution_count": 96,
   "id": "ee1ee8cb",
   "metadata": {},
   "outputs": [],
   "source": [
    "#regex for finding Mtn,Airtel,Glo Phone Number type\n",
    "import re\n",
    "\n",
    "phoneNumRegex = re.compile(r'''(\n",
    "([+]\\d{3}|[0]|\\([+]\\d{3})\\)?     #check for country code like +234 or the first 0 or (+234)\n",
    "([789]\\d*)                        #check if its +23470 or 070 ecetera ecetera...followed by remaining digits\n",
    ")\n",
    "''',re.VERBOSE)                   #re.VERBOSE tells re module to ignore the multilines and treat phoneNumRegex as a plain re string\n",
    "\n"
   ]
  },
  {
   "cell_type": "code",
   "execution_count": 177,
   "id": "49cc5d5d",
   "metadata": {},
   "outputs": [
    {
     "name": "stdout",
     "output_type": "stream",
     "text": [
      "Phone Number Found: +2349037358860\n",
      "Phone Number Found: (+234)7077654631\n",
      "Phone Number Found: 09037358860\n",
      "Phone Number Found: 07088133764\n",
      "====================================\n",
      "Total phone numbers found:4\n"
     ]
    }
   ],
   "source": [
    "#testing phoneNumRegex\n",
    "text = 'phone number to call is +2349037358860, (+234)7077654631 or you can try this one if you\\'re calling locally 09037358860.you fit still try call 07088133764 later sha.'\n",
    "phoneNum = phoneNumRegex.findall(text)\n",
    "numCount = 0\n",
    "for i in phoneNum :\n",
    "    numCount += 1\n",
    "    for v in i :\n",
    "        if len(v) < 11 :\n",
    "            pass\n",
    "        else :\n",
    "            print('Phone Number Found: ' + v)\n",
    "\n",
    "print('='*36)\n",
    "if phoneNum == [] :\n",
    "    print('0 Phone Number(s) found!')\n",
    "else :\n",
    "    print('Total phone numbers found:' + str(numCount))"
   ]
  },
  {
   "cell_type": "code",
   "execution_count": 172,
   "id": "bf58ec87",
   "metadata": {},
   "outputs": [],
   "source": [
    "#regex to extract email\n",
    "import re\n",
    "\n",
    "emailRegex = re.compile(r'''(\n",
    "(\\w*)                          #get whats before @ sign, it can be a name or whatnot \n",
    "(@)                  \n",
    "(\\w*\\.\\w*)                     #get whats after @ (the domain name)\n",
    ")\n",
    "''', re.VERBOSE)"
   ]
  },
  {
   "cell_type": "code",
   "execution_count": 176,
   "id": "eb9e0cf6",
   "metadata": {},
   "outputs": [
    {
     "name": "stdout",
     "output_type": "stream",
     "text": [
      "Email found: ebubeakukwe@gmail.com\n",
      "     Name: ebubeakukwe\n",
      "     Domain: gmail.com\n",
      "=================================\n",
      "Email found: ebubejude2@gmail.com\n",
      "     Name: ebubejude2\n",
      "     Domain: gmail.com\n",
      "================================\n",
      "Email found: ebubeakukwe@icloud.com\n",
      "     Name: ebubeakukwe\n",
      "     Domain: icloud.com\n",
      "==================================\n",
      "Email found: claracrazy@xoxo.org\n",
      "     Name: claracrazy\n",
      "     Domain: xoxo.org\n",
      "===============================\n",
      "Total emails found: 4\n"
     ]
    }
   ],
   "source": [
    "#test email regex\n",
    "\n",
    "mailtext = 'You can send me a message here ==> ebubeakukwe@gmail.com or here ==> ebubejude2@gmail.com or even on my Icloud Mail ==> ebubeakukwe@icloud.com,claracrazy@xoxo.org'\n",
    "\n",
    "emails = emailRegex.findall(mailtext)\n",
    "x = 0\n",
    "y = 0\n",
    "mailCount = 0\n",
    "#for loop to pretty print mail,name and domain...fun stuff xoxo\n",
    "for i in emails :\n",
    "    mailCount += 1\n",
    "    print('Email found: ' + emails[x][y])\n",
    "    print((\" \"*5)+('Name: ' + emails[x][y+1]))\n",
    "    print((\" \"*5)+('Domain: '+ emails[x][y+3]))\n",
    "    print(('='*12)+('='*len(emails[x][y])))\n",
    "    x += 1\n",
    "if emails == []:\n",
    "    print('0 Email(s) found!')\n",
    "else :\n",
    "    print('Total emails found: ' + str(mailCount))"
   ]
  },
  {
   "cell_type": "code",
   "execution_count": null,
   "id": "14bbb198",
   "metadata": {},
   "outputs": [],
   "source": []
  },
  {
   "cell_type": "code",
   "execution_count": 17,
   "id": "0864430b",
   "metadata": {},
   "outputs": [
    {
     "name": "stdout",
     "output_type": "stream",
     "text": [
      "Enter password to check strength: Adgajaj6789876gha\n",
      "Password Strength Detector\n",
      "=========================\n",
      "     Up to eight characters\n",
      "     Have at least one lower case character\n",
      "     Have at least one upper case character\n",
      "     Have at least one digit\n",
      "Password Strength: 100.0%\n",
      "Detection: Strong\n"
     ]
    }
   ],
   "source": [
    "#strong password detection regex project\n",
    "import re\n",
    "\n",
    "#strong pass should be at least \n",
    "#eight characters long\n",
    "#contains both uppercase and lowercase characters\n",
    "#has at least one digit\n",
    "\n",
    "checkPasswordLength = re.compile('\\w*')\n",
    "checkPasswordLowerCase = re.compile('[a-z]+|\\w*[a-z]+')\n",
    "checkPasswordUpperCase = re.compile('[A-Z]+|\\w*[A-Z]+')\n",
    "checkPasswordDigit = re.compile('\\w*\\d+')\n",
    "\n",
    "weakness = 0\n",
    "strength = 0\n",
    "lenmsg = 'eight characters'\n",
    "lowermsg = 'at least one lower case character'\n",
    "uppermsg = 'at least one upper case character'\n",
    "digitmsg = 'at least one digit'\n",
    "reportmsg = {'lenmsg':'','lowermsg':'','uppermsg':'','digitmsg':''}\n",
    "\n",
    "def checkPassword(password) :\n",
    "    global checkPasswordLength,checkPasswordUpperCase,checkPasswordLowerCase,checkPasswordDigit\n",
    "    global weakness,strength,detection,strengthPercent\n",
    "    global reportmsg\n",
    "    try :\n",
    "        if len(checkPasswordLength.search(password).group()) >= 8 :\n",
    "            strength += 1\n",
    "            reportmsg['lenmsg'] = 'Up to ' + lenmsg\n",
    "        elif len(checkPasswordLength.search(password).group()) < 8 or checkPasswordLength.search(password) == None:\n",
    "            weakness += 1\n",
    "            reportmsg['lenmsg'] = 'Not up to ' + lenmsg\n",
    "        else :\n",
    "            reportmsg['lenmsg'] = 'Not up to ' + lenmsg\n",
    "    except AttributeError :\n",
    "        detection = 'Very bad password!'\n",
    "        reportmsg['lenmsg'] = 'Not up to ' + lenmsg\n",
    "        pass\n",
    "    try:\n",
    "        if len(checkPasswordLowerCase.search(password).group()) >= 1 :\n",
    "            strength += 1\n",
    "            reportmsg['lowermsg'] = 'Have ' + lowermsg\n",
    "        elif len(checkPasswordLowerCase.search(password).group()) < 1 or checkPasswordLowerCase.search(password) == None :\n",
    "            weakness += 1\n",
    "            reportmsg['lowermsg'] = 'Does not have ' + lowermsg\n",
    "        else :\n",
    "            reportmsg['lowermsg'] = 'Does not have ' + lowermsg\n",
    "    except AttributeError :\n",
    "        detection = 'Very bad password!'\n",
    "        reportmsg['lowermsg'] = 'Does not have ' + lowermsg\n",
    "        pass\n",
    "    try:\n",
    "        if len(checkPasswordUpperCase.search(password).group()) >= 1 :\n",
    "            strength += 1\n",
    "            reportmsg['uppermsg'] = 'Have ' + uppermsg\n",
    "        elif len(checkPasswordUpperCase.search(password).group()) < 1 or checkPasswordUpperCase.search(password) == None:\n",
    "            weakness += 1\n",
    "            reportmsg['uppermsg'] = 'Does not have ' + uppermsg\n",
    "        else :\n",
    "            reportmsg['uppermsg'] = 'Does not have ' + uppermsg\n",
    "    except AttributeError :\n",
    "        detection = 'Very bad password!'\n",
    "        reportmsg['uppermsg'] = 'Does not have ' + uppermsg\n",
    "        pass\n",
    "    try:\n",
    "        if len(checkPasswordDigit.search(password).group()) >= 1 :\n",
    "            strength += 1\n",
    "            reportmsg['digitmsg'] = 'Have ' + digitmsg\n",
    "        elif len(checkPasswordDigit.search(password).group()) < 1 or checkPasswordDigit.search(password) == None :\n",
    "            weakness += 1\n",
    "            reportmsg['digitmsg'] = ('Does not have ' + digitmsg)\n",
    "        else :\n",
    "            reportmsg['digitmsg'] = ('Does not have ' + digitmsg)\n",
    "    except AttributeError :\n",
    "        detection = 'Very bad password!'\n",
    "        reportmsg['digitmsg'] = ('Does not have ' + digitmsg)\n",
    "        pass\n",
    "        \n",
    "    strengthPercent = ((strength*10)*2) + ((strength*10)/2)\n",
    "    \n",
    "    print('Password Strength Detector')\n",
    "    print('='*25)\n",
    "    print(\" \"*5 + reportmsg['lenmsg'])\n",
    "    print(\" \"*5 + reportmsg['lowermsg'])\n",
    "    print(\" \"*5 + reportmsg['uppermsg'])\n",
    "    print(\" \"*5 + reportmsg['digitmsg'])\n",
    "    \n",
    "    if weakness > 0 :\n",
    "        detection = 'Weak'\n",
    "    else :\n",
    "        detection = 'Strong'\n",
    "    print('Password Strength: ' + str(strengthPercent)+'%')\n",
    "    print('Detection: ' + detection)\n",
    "    \n",
    "\n",
    "password = input('Enter password to check strength: ')\n",
    "checkPassword(password)"
   ]
  },
  {
   "cell_type": "code",
   "execution_count": null,
   "id": "d1b1fd9e",
   "metadata": {},
   "outputs": [],
   "source": []
  },
  {
   "cell_type": "code",
   "execution_count": 30,
   "id": "ada4c363",
   "metadata": {},
   "outputs": [],
   "source": [
    "#regex version of strip"
   ]
  },
  {
   "cell_type": "code",
   "execution_count": 82,
   "id": "173ec8f7",
   "metadata": {},
   "outputs": [
    {
     "name": "stdout",
     "output_type": "stream",
     "text": [
      "Remove what ? \n",
      "I love cats, do you ? "
     ]
    }
   ],
   "source": [
    "#the strip method removes x from a string.x can be whitespaces,newlines or part of the string\n",
    "\n",
    "#using for loop and the list remove method -- An Idea of what I want\n",
    "text = '   I     love cats, do you ?     '\n",
    "what_to_strip = input('Remove what ?')\n",
    "words = text.split()\n",
    "c = 0\n",
    "for i in words :\n",
    "    if i == what_to_strip :\n",
    "        words.remove(i)\n",
    "    else :\n",
    "        pass\n",
    "for i in words:\n",
    "    print(i, end=' ')"
   ]
  },
  {
   "cell_type": "code",
   "execution_count": 87,
   "id": "83058de3",
   "metadata": {},
   "outputs": [
    {
     "name": "stdout",
     "output_type": "stream",
     "text": [
      "Enter text to strip:   I love   Dogs  .\n",
      "Strip what?\n",
      "I love Dogs . "
     ]
    }
   ],
   "source": [
    "# using a function -- What I really want(Regex version of strip)\n",
    "def strip_this(text, what_to_remove) :\n",
    "    words = text.split()\n",
    "    c = 0\n",
    "    for i in words :\n",
    "        if i == what_to_remove :\n",
    "            words.remove(i)\n",
    "        else :\n",
    "            pass\n",
    "    for i in words:\n",
    "        print(i, end=' ')\n",
    "\n",
    "text_to_strip = input('Enter text to strip:')\n",
    "what_to_strip = input('Strip what?')\n",
    "if what_to_strip == '' :\n",
    "    strip_this(text_to_strip,' ')\n",
    "else :\n",
    "    strip_this(text_to_strip,what_to_strip)"
   ]
  },
  {
   "cell_type": "code",
   "execution_count": null,
   "id": "f8ee94c5",
   "metadata": {},
   "outputs": [],
   "source": []
  },
  {
   "cell_type": "code",
   "execution_count": 68,
   "id": "2b75b849",
   "metadata": {},
   "outputs": [
    {
     "name": "stdout",
     "output_type": "stream",
     "text": [
      "Enter ADJECTIVE silly\n",
      "Enter NOUN chandelier\n",
      "Enter VERB screamed\n",
      "Enter NOUN pickup truck\n",
      "The silly panda walked to the chandelier and then screamed. A nearby pickup truck was unaffected by these events. "
     ]
    }
   ],
   "source": [
    "#Mad Libs Generator Project\n",
    "\n",
    "figure_of_speech = ['ADJECTIVE','NOUN','ADVERB','VERB']\n",
    "text = 'The ADJECTIVE panda walked to the NOUN and then VERB. A nearby NOUN was unaffected by these events.'\n",
    "text = text.split()\n",
    "\n",
    "for i in text :\n",
    "    if i in figure_of_speech :\n",
    "        word_to_replace = input('Enter %s ' %(i))\n",
    "        text[text.index(i)] = word_to_replace\n",
    "    elif i[:len(i)-1] in figure_of_speech:\n",
    "        word_to_replace = input('Enter %s ' %(i[:len(i)-1]))\n",
    "        text[text.index(i[:len(i)])] = word_to_replace + i[-1]\n",
    "    else :\n",
    "        pass\n",
    "    \n",
    "for i in text :\n",
    "    print(i, end=' ')"
   ]
  },
  {
   "cell_type": "code",
   "execution_count": null,
   "id": "25682c53",
   "metadata": {},
   "outputs": [],
   "source": []
  },
  {
   "cell_type": "code",
   "execution_count": null,
   "id": "0844534b",
   "metadata": {},
   "outputs": [],
   "source": []
  },
  {
   "cell_type": "code",
   "execution_count": null,
   "id": "8a2fd63b",
   "metadata": {},
   "outputs": [],
   "source": [
    "#Regex search through files"
   ]
  },
  {
   "cell_type": "code",
   "execution_count": 78,
   "id": "3f1816da",
   "metadata": {},
   "outputs": [
    {
     "name": "stdout",
     "output_type": "stream",
     "text": [
      "Enter path to search in :C:\\Users\\user\\Desktop\\Demo\n",
      "File: harry.txt \n",
      " Match(es):\n",
      "090238956789\n",
      "070238951729\n",
      "File: james.txt \n",
      " Match(es):\n",
      "091234567639\n",
      "File: mike.txt \n",
      " Match(es):\n",
      "08123456789\n",
      "Text Files:  3\n",
      "Regex matches:  4\n"
     ]
    }
   ],
   "source": [
    "#for this program create a demo folder in desktop and add 3 files \n",
    "#mike.txt,harry.txt,james.txt\n",
    "'''\n",
    "their content should be in this form\n",
    "i.e content of mike.txt\n",
    "\n",
    "Name - Mike Spence\n",
    "\n",
    "Phone num -08123456789\n",
    "\n",
    "Email - mikespence@xoxo.com\n",
    "\n",
    "Website - www.devs.mikespence.com\n",
    "\n",
    "'''\n",
    "\n",
    "import os\n",
    "import re\n",
    "path = input(r'Enter path to search in :')\n",
    "try :\n",
    "    files_in_path = os.listdir(path)\n",
    "except FileNotFoundError :\n",
    "    print('The path does not exist, try copying the path and try again.')\n",
    "text_files_in_path = []\n",
    "#append all .txt files in path to text_files_in_path\n",
    "for i in files_in_path :\n",
    "    if '.txt' in files_in_path[files_in_path.index(i)] :\n",
    "        #print('Text File: ' + i)\n",
    "        text_files_in_path.append(i)\n",
    "    else :\n",
    "        pass\n",
    "    \n",
    "#input your regex here... I'm reusing the phone number regex I created before\n",
    "#you can use any regex\n",
    "phoneNumRegex = re.compile(r'''(\n",
    "([+]\\d{3}|[0]|\\([+]\\d{3})\\)?     #check for country code like +234 or the first 0 or (+234)\n",
    "([789]\\d*)                        #check if its +23470 or 070 ecetera ecetera...followed by remaining digits\n",
    ")\n",
    "''',re.VERBOSE)\n",
    "\n",
    "#finding and printing the match from all .txt files in path\n",
    "txt_files_count = 0\n",
    "match_count = 0\n",
    "for i in text_files_in_path :\n",
    "    txt_files_count += 1\n",
    "    try :\n",
    "        content = open(path+'\\\\'+i, 'r')\n",
    "        match = phoneNumRegex.findall(content.read())\n",
    "        print('File: {a} \\n Match(es):'.format(a=i))\n",
    "        for i in match :\n",
    "            match_count += 1\n",
    "            print(i[0])\n",
    "        #code to find match of regex in file\n",
    "        #if found print file name, and match found\n",
    "        #at the end print number of files and how many matches found in files\n",
    "    except SyntaxError:\n",
    "        pass\n",
    "print('Text Files: ',txt_files_count)\n",
    "print('Regex matches: ',match_count)"
   ]
  },
  {
   "cell_type": "code",
   "execution_count": null,
   "id": "6c7a9970",
   "metadata": {},
   "outputs": [],
   "source": []
  },
  {
   "cell_type": "markdown",
   "id": "0cb48af1",
   "metadata": {},
   "source": [
    "# Selective Copy Code"
   ]
  },
  {
   "cell_type": "code",
   "execution_count": null,
   "id": "6e8a7f68",
   "metadata": {},
   "outputs": [],
   "source": [
    "#selective copy program"
   ]
  },
  {
   "cell_type": "code",
   "execution_count": 16,
   "id": "f560cdf4",
   "metadata": {},
   "outputs": [
    {
     "name": "stdout",
     "output_type": "stream",
     "text": [
      "Enter path of folder to perform selective copy on: C:\\Users\\user\\Documents\n",
      "Enter extension of Files to copy:.txt\n",
      "Successfully copied all .txt files to TXT_FILES\n",
      "Files copied:  3\n"
     ]
    }
   ],
   "source": [
    "import os, shutil\n",
    "folder = input('Enter path of folder to perform selective copy on: ')\n",
    "extension = input('Enter extension of Files to copy:')\n",
    "destination_folder = extension[1::] + '_files'\n",
    "destination_path = (folder+'\\\\{a}').format(a=destination_folder.upper())\n",
    "os.makedirs(destination_path)\n",
    "copy_count = 0\n",
    "for file in os.listdir(folder) :\n",
    "    file_path = folder+'\\\\'+file\n",
    "    if extension in file :\n",
    "        shutil.move(file_path, destination_path)\n",
    "        copy_count += 1\n",
    "    else :\n",
    "        pass\n",
    "output = ('Successfully copied all {a} files to {b}').format(a=extension,b=destination_folder.upper())\n",
    "print(output)\n",
    "print('Files copied: ',copy_count)"
   ]
  },
  {
   "cell_type": "code",
   "execution_count": null,
   "id": "63b5c84c",
   "metadata": {},
   "outputs": [],
   "source": [
    "#deleting unneeded files"
   ]
  },
  {
   "cell_type": "code",
   "execution_count": 33,
   "id": "8775c566",
   "metadata": {
    "collapsed": true
   },
   "outputs": [
    {
     "name": "stdout",
     "output_type": "stream",
     "text": [
      "Enter path of folder to check for files >= 100MB in size: C:\\Users\\user\\Downloads\n",
      "File: 92618528-viral-content-conceptual-illustration-likes-shares-and-comments-popping-up-on-the-mobile-screen.jpg\n",
      "Size: 140574\n",
      "\n",
      "File: Alex Data Analyst BootCamp\n",
      "Size: 8192\n",
      "\n",
      "File: archive.zip\n",
      "Size: 31830\n",
      "\n",
      "File: Bike Buyers Excel Project.ods\n",
      "Size: 122857\n",
      "\n",
      "File: BikeBuyersEDA Using Pandas\n",
      "Size: 4096\n",
      "\n",
      "File: cartoon-blocks-christmas.zip\n",
      "Size: 1025519\n",
      "\n",
      "File: City Skyline_ U 2ea894ba-d3ad-4864-882d-1411c41d4b74.png\n",
      "Size: 1939118\n",
      "\n",
      "File: City Skyline_ U 8467465f-1a1c-41b7-b7b0-3a86430e58bb.png\n",
      "Size: 2021645\n",
      "\n",
      "File: City Skyline_ U b2029ddf-58aa-4ac8-870c-fa6502b0d82e.png\n",
      "Size: 1759779\n",
      "\n",
      "File: City Skyline_ U ffe382c8-f2b8-47e5-8080-4b15e8486d45.png\n",
      "Size: 1939341\n",
      "\n",
      "File: continuous-one-line-drawing-of-hand-holding-phone-vector-41679851.jpg\n",
      "Size: 48967\n",
      "\n",
      "File: desktop.ini\n",
      "Size: 282\n",
      "\n",
      "File: download.png\n",
      "Size: 4244\n",
      "\n",
      "File: Dummy PhoneSales EDA Using Pandas\n",
      "Size: 4096\n",
      "\n",
      "File: EbubeAkukweDataAnalyst Resume.odt\n",
      "Size: 34091\n",
      "\n",
      "File: EbubeAkukweDataAnalyst Resume.pdf\n",
      "Size: 42963\n",
      "\n",
      "File: fonts\n",
      "Size: 4096\n",
      "\n",
      "File: graphicdesign\n",
      "Size: 12288\n",
      "\n",
      "File: Green Screen - Christmas Snow Falling [FREE USE].mp4\n",
      "Size: 25559861\n",
      "\n",
      "File: hand-drawn-hand-holding-smartphone-line-art-style_278222-3402.jpg\n",
      "Size: 9764\n",
      "\n",
      "File: howardsnooks\n",
      "Size: 0\n",
      "\n",
      "File: html5up-strata.zip\n",
      "Size: 1516243\n",
      "\n",
      "File: IMG_1722.PNG\n",
      "Size: 0\n",
      "\n",
      "File: kingthings-christmas-2.zip\n",
      "Size: 85529\n",
      "\n",
      "File: LashByCalandra\n",
      "Size: 0\n",
      "\n",
      "File: Logo Design for b4875673-22bd-451a-b1a7-6f4a86e2d07e.png\n",
      "Size: 1712047\n",
      "\n",
      "File: mallpic.jpg\n",
      "Size: 25987\n",
      "\n",
      "File: man-yaoming-laughing.jpeg\n",
      "Size: 38418\n",
      "\n",
      "File: memepic1.jpeg\n",
      "Size: 4347\n",
      "\n",
      "File: memepic2.jpeg\n",
      "Size: 11693\n",
      "\n",
      "File: memepic3.jpg\n",
      "Size: 83733\n",
      "\n",
      "File: memepic4.jpeg\n",
      "Size: 7717\n",
      "\n",
      "File: memepic5.jpg\n",
      "Size: 30853\n",
      "\n",
      "File: memepic6.jpeg\n",
      "Size: 6674\n",
      "\n",
      "File: memepic7.jpeg\n",
      "Size: 6511\n",
      "\n",
      "File: mengallery\n",
      "Size: 28672\n",
      "\n",
      "File: MyPortfolioProjects\n",
      "Size: 4096\n",
      "\n",
      "File: OBS-Studio-29.1.3-Full-Installer-x64.exe\n",
      "Size: 134083968\n",
      "\n",
      "File: Pandas_Cheat_Sheet.pdf\n",
      "Size: 396529\n",
      "\n",
      "File: piratefightingoctopus.png\n",
      "Size: 9421\n",
      "\n",
      "File: PortfolioWebsite\n",
      "Size: 4096\n",
      "\n",
      "File: Resume\n",
      "Size: 4096\n",
      "\n",
      "File: Rick and morty  4fd895fe-47aa-4306-8b7f-db73ae2a8c7f.png\n",
      "Size: 2202917\n",
      "\n",
      "File: screenshot01.PNG\n",
      "Size: 52753\n",
      "\n",
      "File: videoplayback (1).mp4\n",
      "Size: 25405547\n",
      "\n",
      "File: videoplayback.mp4\n",
      "Size: 4735016\n",
      "\n",
      "File: xmascap.jpg\n",
      "Size: 30053\n",
      "\n"
     ]
    }
   ],
   "source": [
    "#recommend deleting files manually to avoid deleting needed files"
   ]
  },
  {
   "cell_type": "markdown",
   "id": "1a90a8c9",
   "metadata": {},
   "source": [
    "# Filling in the gaps code"
   ]
  },
  {
   "cell_type": "code",
   "execution_count": null,
   "id": "6342b791",
   "metadata": {},
   "outputs": [],
   "source": [
    "#filling in the gaps"
   ]
  },
  {
   "cell_type": "code",
   "execution_count": 12,
   "id": "930289b2",
   "metadata": {},
   "outputs": [
    {
     "name": "stdout",
     "output_type": "stream",
     "text": [
      "Enter path to check files and fill in the gaps: C:\\Users\\user\\Documents\\gapdemo\n",
      "Before Filling:  ['spam001.txt', 'spam002.txt', 'spam003.txt', 'spam004.txt', 'spam005.txt', 'spam006.txt', 'spam007.txt', 'spam008.txt']\n",
      "After Filling:  ['spam001.txt', 'spam002.txt', 'spam003.txt', 'spam004.txt', 'spam005.txt', 'spam006.txt', 'spam007.txt', 'spam008.txt']\n",
      "Check Folder to see Result!!\n"
     ]
    }
   ],
   "source": [
    "\n",
    "'''\n",
    "To run this code you should\n",
    "Create folder with text files spam001.txt spam002.txt to spam010.txt or more\n",
    "delete some random files to make the file numbering incomplete\n",
    "'''\n",
    "\n",
    "import re, os, shutil\n",
    "prefix = re.compile('w*\\d{1,50}\\w*?')\n",
    "prefix_num = []\n",
    "text_files1 = []\n",
    "text_files2 = []\n",
    "file_names1 = []\n",
    "file_names2 = []\n",
    "folder_path = input('Enter path to check files and fill in the gaps: ')\n",
    "x = 1\n",
    "for i in os.listdir(folder_path) :\n",
    "    h = len(str(x))\n",
    "    file_name = i\n",
    "    match = prefix.search(file_name).group()\n",
    "    file1 = folder_path+'\\\\'+file_name\n",
    "    file_names1.append(file_name)\n",
    "    file2 = folder_path+'\\\\'+'spam'+'00'+str(x)+'.txt'\n",
    "    file_names2.append('spam'+('00')+str(x)+'.txt')\n",
    "    shutil.move(file1, file2)\n",
    "    x += 1\n",
    "print('Before Filling: ', file_names1)\n",
    "print('After Filling: ', file_names2)\n",
    "print('Check Folder to see Result!!')"
   ]
  },
  {
   "cell_type": "markdown",
   "id": "97f0028f",
   "metadata": {},
   "source": [
    "\n",
    "   "
   ]
  },
  {
   "cell_type": "code",
   "execution_count": null,
   "id": "3fdf35b1",
   "metadata": {},
   "outputs": [],
   "source": []
  },
  {
   "cell_type": "markdown",
   "id": "a4c3812f",
   "metadata": {},
   "source": [
    "# Debugging codes"
   ]
  },
  {
   "cell_type": "code",
   "execution_count": null,
   "id": "f5732e87",
   "metadata": {},
   "outputs": [],
   "source": [
    "#Debugging coin Toss\n",
    "\n",
    "#the code to debug\n",
    "import random\n",
    "guess = ''\n",
    "while guess not in ('heads', 'tails'):\n",
    " print('Guess the coin toss! Enter heads or tails:')\n",
    " guess = input()\n",
    "toss = random.randint(0, 1) # 0 is tails, 1 is heads\n",
    "if toss == guess:\n",
    " print('You got it!')\n",
    "else:\n",
    " print('Nope! Guess again!')\n",
    " guesss = input()\n",
    " if toss == guess:\n",
    " print('You got it!')\n",
    " else:\n",
    " print('Nope. You are really bad at this game.')"
   ]
  },
  {
   "cell_type": "code",
   "execution_count": 12,
   "id": "b2f93adf",
   "metadata": {},
   "outputs": [
    {
     "name": "stdout",
     "output_type": "stream",
     "text": [
      "Guess the coin toss! Enter heads or tails:\n",
      "heads\n",
      "Nope! Guess again!\n",
      "Tails\n",
      "Nope. You are really bad at this game.\n"
     ]
    }
   ],
   "source": [
    "#debugging the code\n",
    "'''import logging\n",
    "logging.basicConfig('coinTossLog.txt', logging.level==DEBUG, format= '%(asctime)s - %(levelname)s - %(message)')\n",
    "'''\n",
    "\n",
    "#bug1:IndentationError\n",
    "#bug2:wrong spelling - guesss \n",
    "\n",
    "#fixed code\n",
    "import random\n",
    "guess = ''\n",
    "while guess not in ('heads', 'tails'):\n",
    "    print('Guess the coin toss! Enter heads or tails:')\n",
    "    guess = input()\n",
    "toss = random.randint(0, 1) # 0 is tails, 1 is heads\n",
    "if toss == guess:\n",
    "    print('You got it!')\n",
    "else:\n",
    "    print('Nope! Guess again!')\n",
    "    guess = input()\n",
    "    if toss == guess:\n",
    "        print('You got it!')\n",
    "    else:\n",
    "        print('Nope. You are really bad at this game.')\n"
   ]
  },
  {
   "cell_type": "code",
   "execution_count": null,
   "id": "8fa9a992",
   "metadata": {},
   "outputs": [],
   "source": []
  },
  {
   "cell_type": "code",
   "execution_count": null,
   "id": "cc1059b4",
   "metadata": {},
   "outputs": [],
   "source": []
  },
  {
   "cell_type": "code",
   "execution_count": null,
   "id": "b3a3bfc9",
   "metadata": {},
   "outputs": [],
   "source": []
  },
  {
   "cell_type": "code",
   "execution_count": null,
   "id": "c3776e91",
   "metadata": {},
   "outputs": [],
   "source": []
  }
 ],
 "metadata": {
  "kernelspec": {
   "display_name": "Python 3 (ipykernel)",
   "language": "python",
   "name": "python3"
  },
  "language_info": {
   "codemirror_mode": {
    "name": "ipython",
    "version": 3
   },
   "file_extension": ".py",
   "mimetype": "text/x-python",
   "name": "python",
   "nbconvert_exporter": "python",
   "pygments_lexer": "ipython3",
   "version": "3.11.4"
  }
 },
 "nbformat": 4,
 "nbformat_minor": 5
}
